{
  "nbformat": 4,
  "nbformat_minor": 0,
  "metadata": {
    "colab": {
      "name": "CIFAR100_CNN.ipynb",
      "provenance": []
    },
    "kernelspec": {
      "name": "python3",
      "display_name": "Python 3"
    },
    "language_info": {
      "name": "python"
    },
    "accelerator": "GPU"
  },
  "cells": [
    {
      "cell_type": "code",
      "execution_count": 1,
      "metadata": {
        "colab": {
          "base_uri": "https://localhost:8080/",
          "height": 1000
        },
        "id": "UKYE1J6bGM8g",
        "outputId": "98946750-3cee-4039-db56-ec2f7a7963b2"
      },
      "outputs": [
        {
          "output_type": "stream",
          "name": "stdout",
          "text": [
            "Downloading data from https://www.cs.toronto.edu/~kriz/cifar-100-python.tar.gz\n",
            "169009152/169001437 [==============================] - 11s 0us/step\n",
            "169017344/169001437 [==============================] - 11s 0us/step\n",
            "Model: \"sequential\"\n",
            "_________________________________________________________________\n",
            " Layer (type)                Output Shape              Param #   \n",
            "=================================================================\n",
            " conv2d (Conv2D)             (None, 16, 16, 32)        416       \n",
            "                                                                 \n",
            " max_pooling2d (MaxPooling2D  (None, 16, 16, 32)       0         \n",
            " )                                                               \n",
            "                                                                 \n",
            " conv2d_1 (Conv2D)           (None, 8, 8, 64)          8256      \n",
            "                                                                 \n",
            " max_pooling2d_1 (MaxPooling  (None, 8, 8, 64)         0         \n",
            " 2D)                                                             \n",
            "                                                                 \n",
            " flatten (Flatten)           (None, 4096)              0         \n",
            "                                                                 \n",
            " dense (Dense)               (None, 512)               2097664   \n",
            "                                                                 \n",
            " dense_1 (Dense)             (None, 256)               131328    \n",
            "                                                                 \n",
            " dense_2 (Dense)             (None, 100)               25700     \n",
            "                                                                 \n",
            "=================================================================\n",
            "Total params: 2,263,364\n",
            "Trainable params: 2,263,364\n",
            "Non-trainable params: 0\n",
            "_________________________________________________________________\n",
            "Epoch 1/100\n",
            "1563/1563 [==============================] - 24s 9ms/step - loss: 3.3520 - accuracy: 0.2007 - val_loss: 2.8463 - val_accuracy: 0.2941\n",
            "Epoch 2/100\n",
            "1563/1563 [==============================] - 15s 9ms/step - loss: 2.5542 - accuracy: 0.3506 - val_loss: 2.6075 - val_accuracy: 0.3431\n",
            "Epoch 3/100\n",
            "1563/1563 [==============================] - 14s 9ms/step - loss: 2.1337 - accuracy: 0.4375 - val_loss: 2.5330 - val_accuracy: 0.3705\n",
            "Epoch 4/100\n",
            "1563/1563 [==============================] - 13s 9ms/step - loss: 1.7514 - accuracy: 0.5219 - val_loss: 2.5668 - val_accuracy: 0.3742\n",
            "Epoch 5/100\n",
            "1563/1563 [==============================] - 14s 9ms/step - loss: 1.3725 - accuracy: 0.6127 - val_loss: 2.7763 - val_accuracy: 0.3762\n",
            "Epoch 6/100\n",
            "1563/1563 [==============================] - 14s 9ms/step - loss: 1.0320 - accuracy: 0.6968 - val_loss: 3.1342 - val_accuracy: 0.3704\n",
            "Epoch 7/100\n",
            "1563/1563 [==============================] - 14s 9ms/step - loss: 0.7542 - accuracy: 0.7712 - val_loss: 3.4282 - val_accuracy: 0.3661\n",
            "Epoch 8/100\n",
            "1563/1563 [==============================] - 14s 9ms/step - loss: 0.5861 - accuracy: 0.8168 - val_loss: 4.0650 - val_accuracy: 0.3595\n",
            "Epoch 9/100\n",
            "1563/1563 [==============================] - 14s 9ms/step - loss: 0.4713 - accuracy: 0.8518 - val_loss: 4.2530 - val_accuracy: 0.3503\n",
            "Epoch 10/100\n",
            "1563/1563 [==============================] - 13s 9ms/step - loss: 0.4148 - accuracy: 0.8700 - val_loss: 4.8895 - val_accuracy: 0.3630\n",
            "Epoch 11/100\n",
            "1563/1563 [==============================] - 14s 9ms/step - loss: 0.3581 - accuracy: 0.8889 - val_loss: 5.1211 - val_accuracy: 0.3530\n",
            "Epoch 12/100\n",
            "1563/1563 [==============================] - 14s 9ms/step - loss: 0.3378 - accuracy: 0.8951 - val_loss: 5.5940 - val_accuracy: 0.3529\n",
            "Epoch 13/100\n",
            "1563/1563 [==============================] - 14s 9ms/step - loss: 0.3148 - accuracy: 0.9021 - val_loss: 5.6538 - val_accuracy: 0.3541\n"
          ]
        },
        {
          "output_type": "display_data",
          "data": {
            "text/plain": [
              "<Figure size 432x288 with 1 Axes>"
            ],
            "image/png": "[encoded data removed]"
          },
          "metadata": {
            "needs_background": "light"
          }
        },
        {
          "output_type": "stream",
          "name": "stdout",
          "text": [
            "313/313 [==============================] - 1s 4ms/step - loss: 5.6538 - accuracy: 0.3541\n",
            "Test error: 5.653843879699707\n",
            "Test accuracy:  0.35409998893737793\n",
            "Predicted value:  70\n",
            "Correct value:  71\n"
          ]
        },
        {
          "output_type": "display_data",
          "data": {
            "text/plain": [
              "<Figure size 432x288 with 1 Axes>"
            ],
            "image/png": "[encoded data removed]"
          },
          "metadata": {
            "needs_background": "light"
          }
        }
      ],
      "source": [
        "import pandas as pd\n",
        "from tensorflow.keras import datasets,layers,models\n",
        "import matplotlib.pyplot as plt\n",
        "from keras.models import Sequential\n",
        "import numpy as np\n",
        "from keras.utils import np_utils\n",
        "from keras.layers import Dense, Activation, Dropout,Conv2D,MaxPooling2D,Flatten\n",
        "from tensorflow.keras.optimizers import SGD,Adam,RMSprop\n",
        "from keras.callbacks import EarlyStopping \n",
        "\n",
        "# Load data\n",
        "(train_images,train_labels),(test_images,test_labels)=datasets.cifar100.load_data()\n",
        "\n",
        "# Force to data type\n",
        "train_images=train_images.astype('float32')\n",
        "test_images=test_images.astype('float32')\n",
        "# Divide in 255 to ensure value always between 0 and 1\n",
        "train_images/=255\n",
        "test_images/=255\n",
        "\n",
        "# Convert labels to one hot-encoding\n",
        "train_labels=np_utils.to_categorical(train_labels,100)\n",
        "test_labels=np_utils.to_categorical(test_labels,100)\n",
        "\n",
        "# Create model\n",
        "model = Sequential()\n",
        "model.add(Conv2D(input_shape=(32, 32, 3),  kernel_initializer='he_uniform',kernel_size=(2,2),padding='same',strides=(2,2),filters=32))\n",
        "model.add(MaxPooling2D(pool_size=(2,2),strides=(1,1),padding='same'))\n",
        "model.add(Conv2D(kernel_size=(2,2),padding='same',strides=(2,2),filters=64))\n",
        "model.add(MaxPooling2D(pool_size=(2, 2),strides=(1,1),padding='same'))\n",
        "model.add(Flatten())\n",
        "model.add(Dense(512,activation='relu'))\n",
        "model.add(Dense(256, activation='relu'))\n",
        "model.add(Dense(100, activation='softmax'))\n",
        "model.summary()\n",
        "\n",
        "# compile model\n",
        "model.compile(optimizer='Adam', loss='categorical_crossentropy', metrics=['accuracy'])\n",
        "\n",
        "# Training\n",
        "history=model.fit(train_images,train_labels,batch_size=32,epochs=100,verbose=1,validation_data=(test_images,test_labels),callbacks=[EarlyStopping(monitor='val_loss',patience=10)])\n",
        "\n",
        "# Plot\n",
        "plt.plot(history.history['accuracy'])\n",
        "plt.xlabel('epoch')\n",
        "plt.legend(['accuracy'])\n",
        "plt.show()\n",
        "\n",
        "#  Evaluate\n",
        "score = model.evaluate(test_images,test_labels, verbose=1)\n",
        "print('Test error:',score[0])\n",
        "print('Test accuracy: ',score[1])\n",
        "\n",
        "#Predict\n",
        "plt.imshow(test_images[20].reshape(32,32,3))\n",
        "y_predict = model.predict(test_images[20].reshape(1,32,32,3))\n",
        "print('Predicted value: ', np.argmax(y_predict))\n",
        "print('Correct value: ',np.argmax(test_labels[10]))"
      ]
    }
  ]
}